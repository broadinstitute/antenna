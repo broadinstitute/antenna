{
 "cells": [
  {
   "cell_type": "markdown",
   "id": "3a1dbb92-6fa0-453b-a5ad-2bbda3e45f0a",
   "metadata": {},
   "source": [
    "# Tutorial sgRNA analysis"
   ]
  },
  {
   "cell_type": "markdown",
   "id": "a258c691-d823-4655-ba95-a6d3a8034019",
   "metadata": {},
   "source": [
    "## Python Imports"
   ]
  },
  {
   "cell_type": "code",
   "execution_count": null,
   "id": "18ac9288-c83e-4a73-a7c0-482523bb9d09",
   "metadata": {},
   "outputs": [],
   "source": [
    "import antenna"
   ]
  },
  {
   "cell_type": "code",
   "execution_count": null,
   "id": "b4771c16-a030-44cb-b3ac-406f35daff4f",
   "metadata": {},
   "outputs": [],
   "source": [
    "import pandas as pd\n",
    "import matplotlib.pyplot as plt"
   ]
  },
  {
   "cell_type": "markdown",
   "id": "17fba234-5da4-4f65-8a9c-f549578e20b8",
   "metadata": {},
   "source": [
    "## Main Analysis"
   ]
  },
  {
   "cell_type": "markdown",
   "id": "c7864a6c-d050-41d5-b6e3-3ff7f25201fc",
   "metadata": {},
   "source": [
    "Specify the bam file to examine. This file must have been pre-processed with antenna_tag_reads and must be indexed"
   ]
  },
  {
   "cell_type": "code",
   "execution_count": null,
   "id": "0b8385cd-a946-4841-ae3c-8e436f141416",
   "metadata": {},
   "outputs": [],
   "source": [
    "counted_bam_path = '../../'"
   ]
  },
  {
   "cell_type": "markdown",
   "id": "866de732-0a7f-4aa4-8c65-ab88ef99645a",
   "metadata": {},
   "source": [
    "Examine the reads in the file and collect TRS alignement scores and relevant metadata in a pandas array"
   ]
  },
  {
   "cell_type": "code",
   "execution_count": null,
   "id": "d4e017c1-cae1-4ff5-b392-45957865be9a",
   "metadata": {},
   "outputs": [],
   "source": [
    "sgRNA_scores = antenna_count_reads.load_sgRNA_scores(counted_bam_path)"
   ]
  },
  {
   "cell_type": "markdown",
   "id": "67bafa36-a10c-44b6-97f3-117457c51264",
   "metadata": {},
   "source": [
    "Examine the distribution of scores in all possible configurations. Specifically:\n",
    "    \n",
    "- Forward / Reverse: orientation of read wrt reference\n",
    "- R1/R2: Whether this read is read 1 or read 2\n",
    "- 5'/3': If the TRS was identified in the 3' or 5' flanking region of the read\n",
    "- TRS/RC TRS/R TRS/C TRS: Orientation of sequences that was found"
   ]
  },
  {
   "cell_type": "code",
   "execution_count": null,
   "id": "1b1e096f-87d7-4e4c-8bcd-e54819a6a9f9",
   "metadata": {},
   "outputs": [],
   "source": []
  },
  {
   "cell_type": "code",
   "execution_count": null,
   "id": "62f62e23-65eb-4bda-a253-eef98392fd49",
   "metadata": {},
   "outputs": [],
   "source": []
  },
  {
   "cell_type": "code",
   "execution_count": null,
   "id": "bc341734-55af-45b0-a0db-72c00c3a5f2a",
   "metadata": {},
   "outputs": [],
   "source": [
    "fig1 = antenna_count_reads.plot_read_score_dist(sgRNA_scores,n_bins=40)"
   ]
  },
  {
   "cell_type": "markdown",
   "id": "998b1a88-d079-46a5-bb95-d32355f048f4",
   "metadata": {},
   "source": [
    "### Ideas for automating cutoff selection\n",
    "- Remove 0s\n",
    "- Convert to z-scores\n",
    "- Report fraction of reads that exceed 2 sds\n",
    "- Report mean score of all reads above"
   ]
  },
  {
   "cell_type": "code",
   "execution_count": null,
   "id": "89fe60a7-1df0-42e5-bbd8-153204fb8825",
   "metadata": {},
   "outputs": [],
   "source": []
  },
  {
   "cell_type": "markdown",
   "id": "24f25093-f000-4db1-8fe2-5c132f02eb1d",
   "metadata": {},
   "source": [
    "## Merge information from read pairs"
   ]
  },
  {
   "cell_type": "code",
   "execution_count": null,
   "id": "38141111-2993-41f9-a6a4-52b1be3b5381",
   "metadata": {},
   "outputs": [],
   "source": [
    "merged_read_information = antenna_count_reads.merge_read_information(sgRNA_scores)"
   ]
  },
  {
   "cell_type": "code",
   "execution_count": null,
   "id": "9cf0f33d-9c18-4077-b7f6-3d3e6a837447",
   "metadata": {},
   "outputs": [],
   "source": [
    "merged_read_information.plot.scatter(x='p5_o_score_r1',y='p5_o_score_r2')"
   ]
  },
  {
   "cell_type": "code",
   "execution_count": null,
   "id": "0151eef1-9084-4de2-9204-3447868a036f",
   "metadata": {},
   "outputs": [],
   "source": [
    "import numpy as np"
   ]
  },
  {
   "cell_type": "code",
   "execution_count": null,
   "id": "48f855e8-8480-4790-8abd-a315646c7966",
   "metadata": {},
   "outputs": [],
   "source": [
    "merged_read_information.plot.scatter(x='p5_o_score_r1',y='p5_o_score_r2')"
   ]
  },
  {
   "cell_type": "markdown",
   "id": "092d02d1-18cc-44fc-981b-33154c331e6b",
   "metadata": {},
   "source": [
    "Notes:\n",
    "- 2d histogram matplot hist2d\n",
    "- add alpha + jitter\n",
    "- contour on log scale -- pre-bin this\n",
    "- report proportion of reads in each quadrant\n",
    "- https://numpy.org/doc/stable/reference/generated/numpy.histogram2d.html\n",
    "- https://plotly.com/python/2d-histogram-contour/"
   ]
  },
  {
   "cell_type": "code",
   "execution_count": null,
   "id": "011d569a-a9bf-4e8f-8050-176bf82ead94",
   "metadata": {},
   "outputs": [],
   "source": [
    "cutoff = 30"
   ]
  },
  {
   "cell_type": "code",
   "execution_count": null,
   "id": "5a3de055-137b-4474-a652-1d75778aa2f1",
   "metadata": {},
   "outputs": [],
   "source": [
    "# Add histogram (over/under axis)"
   ]
  },
  {
   "cell_type": "code",
   "execution_count": null,
   "id": "61f36d38-ed5c-4f4c-9df8-13823c259470",
   "metadata": {},
   "outputs": [],
   "source": [
    "def annotate_merged_read_information(merge_sg_read_info, cutoff, sgRNA_bam_tag_name=\"TO\"):\n",
    "    \"\"\"Count sgRNAs stratifying by orientation\"\"\"\n",
    "\n",
    "    columns_to_count = [\n",
    "        \"p5_o_score_r1\",\n",
    "        \"p3_o_score_r1\",\n",
    "        \"p5_o_score_r2\",\n",
    "        \"p3_o_score_r2\",\n",
    "    ]\n",
    "    \n",
    "    TRS_found_column = []\n",
    "\n",
    "    for read_pair in merge_sg_read_info.itertuples():\n",
    "        count_read_pair = False\n",
    "\n",
    "        for cc in columns_to_count:\n",
    "            if getattr(read_pair, cc) > cutoff:\n",
    "                count_read_pair = True\n",
    "                continue  # This should only jump out of inner\n",
    "        \n",
    "        TRS_found_column.append(count_read_pair)\n",
    "        \n",
    "    \n",
    "    merge_sg_read_info['TRS_found'] = TRS_found_column\n",
    "    \n",
    "    return merge_sg_read_info\n",
    "        \n"
   ]
  },
  {
   "cell_type": "code",
   "execution_count": null,
   "id": "4e1cdacd-0ed1-4dc7-a78b-55a4d0074033",
   "metadata": {},
   "outputs": [],
   "source": [
    "annot_read_info = annotate_merged_read_information(merged_read_information, 50)"
   ]
  },
  {
   "cell_type": "code",
   "execution_count": null,
   "id": "8dc1cb56-07a9-499a-8deb-7e2c4c0022fc",
   "metadata": {},
   "outputs": [],
   "source": [
    "fig, ax = plt.subplot()"
   ]
  },
  {
   "cell_type": "code",
   "execution_count": null,
   "id": "3e494414-d764-4bd3-adff-9f2d4837d231",
   "metadata": {},
   "outputs": [],
   "source": [
    "plt.hist(annot_read_info[annot_read_info['TRS_found']]['reference_start_r1'],log=True,bins=1000);"
   ]
  },
  {
   "cell_type": "code",
   "execution_count": null,
   "id": "15a2a2e8-f2fe-4e33-9b4c-8840828374a8",
   "metadata": {},
   "outputs": [],
   "source": [
    "plt.hist(annot_read_info[annot_read_info['TRS_found'] == False]['reference_start_r1'],log=True,bins=1000);"
   ]
  },
  {
   "cell_type": "code",
   "execution_count": null,
   "id": "da6a4bc1-3be4-4f8d-a09e-25db96164450",
   "metadata": {},
   "outputs": [],
   "source": []
  },
  {
   "cell_type": "code",
   "execution_count": null,
   "id": "a0ec11b4-2bcf-4842-960f-96a3f7a389e6",
   "metadata": {},
   "outputs": [],
   "source": [
    "merged_read_information"
   ]
  },
  {
   "cell_type": "code",
   "execution_count": null,
   "id": "3957ab50-41a9-4954-8eef-239b03dc1fc8",
   "metadata": {},
   "outputs": [],
   "source": []
  },
  {
   "cell_type": "code",
   "execution_count": null,
   "id": "5a9ac892-a64a-4be0-b907-f92234fbbb19",
   "metadata": {},
   "outputs": [],
   "source": [
    "trs_intervals = antenna_count_reads.count_sgRNA(merged_read_information, '../../data/orf_start.bed', cutoff)"
   ]
  },
  {
   "cell_type": "code",
   "execution_count": null,
   "id": "04ec12ea-e799-426e-8404-8087ceac5ceb",
   "metadata": {},
   "outputs": [],
   "source": [
    "intervals_counts = antenna_count_reads.summarize_trs_intervals(trs_intervals)"
   ]
  },
  {
   "cell_type": "code",
   "execution_count": null,
   "id": "d778ddc4-bbc3-4949-acb5-773afe639f07",
   "metadata": {},
   "outputs": [],
   "source": [
    "intervals_counts"
   ]
  },
  {
   "cell_type": "code",
   "execution_count": null,
   "id": "05d0a421-07ff-48ca-9818-e542fc4b065c",
   "metadata": {},
   "outputs": [],
   "source": [
    "# Make jupyter notebook and run \n",
    "# nbconvert to generate report "
   ]
  }
 ],
 "metadata": {
  "kernelspec": {
   "display_name": "Python 3",
   "language": "python",
   "name": "python3"
  },
  "language_info": {
   "codemirror_mode": {
    "name": "ipython",
    "version": 3
   },
   "file_extension": ".py",
   "mimetype": "text/x-python",
   "name": "python",
   "nbconvert_exporter": "python",
   "pygments_lexer": "ipython3",
   "version": "3.8.8"
  }
 },
 "nbformat": 4,
 "nbformat_minor": 5
}
